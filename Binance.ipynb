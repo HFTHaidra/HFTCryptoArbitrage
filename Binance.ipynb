{
 "cells": [
  {
   "cell_type": "code",
   "execution_count": null,
   "id": "0f0d157e-cc85-469e-a6a3-9c0e3c7b7586",
   "metadata": {},
   "outputs": [],
   "source": []
  },
  {
   "cell_type": "code",
   "execution_count": 1,
   "id": "0e9763d2-b361-4e53-928f-e0952b435ac4",
   "metadata": {},
   "outputs": [
    {
     "ename": "SyntaxError",
     "evalue": "invalid syntax (4247925408.py, line 1)",
     "output_type": "error",
     "traceback": [
      "\u001b[1;36m  Cell \u001b[1;32mIn[1], line 1\u001b[1;36m\u001b[0m\n\u001b[1;33m    wss://stream.binance.com:9443\u001b[0m\n\u001b[1;37m        ^\u001b[0m\n\u001b[1;31mSyntaxError\u001b[0m\u001b[1;31m:\u001b[0m invalid syntax\n"
     ]
    }
   ],
   "source": [
    "wss://stream.binance.com:9443"
   ]
  },
  {
   "cell_type": "code",
   "execution_count": null,
   "id": "95a50768-9776-4f59-a7ca-85176c676d76",
   "metadata": {},
   "outputs": [],
   "source": [
    "pip install websocket-client"
   ]
  },
  {
   "cell_type": "code",
   "execution_count": null,
   "id": "88ebedce-2dff-4da6-a92b-7ede357a242a",
   "metadata": {},
   "outputs": [],
   "source": [
    "pip install python-binance"
   ]
  },
  {
   "cell_type": "code",
   "execution_count": null,
   "id": "acde1f15-fe6c-44a7-835e-74cd68c5930d",
   "metadata": {},
   "outputs": [],
   "source": [
    "import websocket,json\n",
    "import _thread\n",
    "import time\n",
    "import rel\n",
    "from datetime import datetime\n",
    "from datetime import timedelta\n",
    "import threading\n",
    "import requests\n",
    "\n",
    "from IPython.display import clear_output\n",
    "from binance.client import Client\n",
    "\n",
    "APIKey = \"nrJv6MXyTkRDl0Kf6YzwXsqPOhqXw8HhJdRGMXZidoN6DG11APhrNwnsMUe10bF9\";\n",
    "SecretKey = \"92MyNlEOkTsh84gHi9JdCVmi38UEwK6J0x70Tpz8IUm88qI8ysHRQWUauIQSMI4Q\";\n",
    "symbol1 = 'btcusdt'\n",
    "symbol2 = 'ethusdt'\n",
    "symbol3 = 'ethbtc'\n",
    "round1 = 2 ;\n",
    "round2 = 2 ;\n",
    "round3 = 5 ;\n",
    "SOCK = 'wss://stream.binance.com:9443/stream?streams='+symbol1+'@bookTicker/'+symbol2+'@bookTicker/'+symbol3+'@bookTicker'\n",
    "client = Client(APIKey,SecretKey)\n",
    "def current_milli_time():\n",
    "    return round(time.time() * 1000)"
   ]
  },
  {
   "cell_type": "code",
   "execution_count": null,
   "id": "a048ebb5-5dd9-4077-8f33-757e7c5210a9",
   "metadata": {},
   "outputs": [],
   "source": [
    "client.get_account()\n",
    "t0 = current_milli_time()\n",
    "ticker = client.get_symbol_ticker(symbol=symbol)\n",
    "ticker_price = float(ticker['price'])\n",
    "t1 = current_milli_time()\n",
    "ticker,ticker_price,str(t1-t0)+'ms'\n",
    "\n",
    "def BuyOrder(symbol,quantity): \n",
    "    order = client.order_market_buy(symbol=symbol,quantity = quantity)\n",
    "    print(f'Buy Order Done :{order}')"
   ]
  },
  {
   "cell_type": "code",
   "execution_count": null,
   "id": "0adfa90a-9349-423e-a0af-83f4bc2e52b6",
   "metadata": {},
   "outputs": [],
   "source": [
    "BuyOrder('BTCUSDT',0.0001)"
   ]
  },
  {
   "cell_type": "code",
   "execution_count": null,
   "id": "9c6e6c2c-4874-446b-b7be-e26a0e4daece",
   "metadata": {},
   "outputs": [],
   "source": [
    "ask1,bid1,ask2,bid2,ask3,bid3=0,0,0,0,0,0\n",
    "Spread1,Spread2,Spread3=0,0,0\n",
    "max1,min1,sMax,sMin = -1,10,'',''\n",
    "def on_message(ws, message):\n",
    "    global ask1,bid1,ask2,bid2,ask3,bid3,Spread1,Spread2,Spread3,max1,min1,sMax,sMin\n",
    "    clear_output(wait=True)\n",
    "    json_msg = json.loads(message)\n",
    "    stream = json_msg['stream']\n",
    "    data = json_msg['data']\n",
    "    if symbol1 in stream:\n",
    "        ask1 = round( float(data['a']) , round1)\n",
    "        bid1 = round( float(data['b']) , round1)\n",
    "        Spread1 = round( float(ask1-bid1) , round1)\n",
    "    if symbol2 in stream:\n",
    "        ask2 =  round( float(data['a'])  , round2)\n",
    "        bid2 =  round( float(data['b'])   , round2)\n",
    "        Spread2 =  round( float(ask2-bid2)   , round2)\n",
    "    if symbol3 in stream:\n",
    "        ask3 =  round( float(data['a'])   , round3)\n",
    "        bid3 =  round( float(data['b'])    , round3)\n",
    "        Spread3 =  round( float(ask3-bid3)   , round3)\n",
    "    \n",
    "        \n",
    "\n",
    "    Extra1 = ask2/ask3\n",
    "    Extra2 = Extra1/ask1\n",
    "    if(Extra2>max1):\n",
    "        max1 = Extra2\n",
    "        sMax='Max ->  '+str(ask1)+' , '+str(ask2)+' , '+str(ask3)\n",
    "    if(Extra2<min1):\n",
    "        min1 = Extra2\n",
    "        sMin='Min -> '+str(ask1)+' , '+str(ask2)+' , '+str(ask3)\n",
    "        \n",
    "\n",
    "\n",
    "\n",
    "\n",
    "\n",
    "\n",
    "    \n",
    "    msg1 = symbol1 +' -> '+str(ask1)+' , '+str(bid1) +' ('+str(Spread1)+')'\n",
    "    msg2 =  symbol2 +' -> '+str(ask2)+' , '+str(bid2) +' ('+str(Spread2)+')' \n",
    "    msg3 = symbol3 +' -> '+str(ask3)+' , '+str(bid3) +' ('+str(Spread3)+')'\n",
    "    print(msg1 ) \n",
    "    print(msg2 ) \n",
    "    print(msg3 )\n",
    "    print(sMax)\n",
    "    print(sMin)\n",
    "    print('Max:'+str(round(max1,5))+' Min:'+str(round(min1,5)))\n",
    "    print(Extra2)"
   ]
  },
  {
   "cell_type": "code",
   "execution_count": null,
   "id": "891bd58e-b5cb-421b-947a-ed0479771e97",
   "metadata": {},
   "outputs": [],
   "source": [
    "def on_close(ws):\n",
    "    print(\"### websocket closed ###\")\n",
    "\n",
    "def on_open(ws):\n",
    "    print(f\"Opened connection on {url}\")\n",
    "ws = websocket.WebSocketApp(SOCK, on_open=on_open, on_message=on_message,  on_close=on_close)\n",
    "\n",
    "ws.run_forever()\n"
   ]
  },
  {
   "cell_type": "code",
   "execution_count": null,
   "id": "6fedc495-cc83-4d3d-ad51-5a126fde4bd8",
   "metadata": {},
   "outputs": [],
   "source": [
    "ethbtc -> 0.036 , 0.03599 (1e-05)\n",
    "ethdai -> 2513.74 , 2508.91 (4.83)\n",
    "btcdai -> 69769.66 , 69604.07 (165.59)\n",
    "Max ->  0.03606 , 2533.95 , 69759.59\n",
    "Min -> 0.03616 , 2509.45 , 69607.24\n",
    "Max:1.00732 Min:0.997\n",
    "1.0008091068683882"
   ]
  },
  {
   "cell_type": "code",
   "execution_count": null,
   "id": "001be58b-4d78-4e8a-80fe-5b7695829465",
   "metadata": {},
   "outputs": [],
   "source": [
    "ask1 = 0.03606\n",
    "ask2 = 2533.95\n",
    "ask3 = 69759.59\n",
    "m = ask2/ask3\n",
    "n = m/ask1\n",
    "n"
   ]
  },
  {
   "cell_type": "code",
   "execution_count": null,
   "id": "1efe0296-7435-4bd2-b7b0-da39511e9028",
   "metadata": {},
   "outputs": [],
   "source": [
    "# Start with ETH->DAI->BTC\n",
    "1ETH->2533.95DAI(-2.5DAI) -2.5\n",
    "2533.95DAI->0.036324BTC (-1.9DAI) 2.5\n",
    "0.036324BTC->1.00732ETH(18$) -2$\n",
    "\n",
    "-> +10$ (0.4%) to (0.3%)"
   ]
  },
  {
   "cell_type": "code",
   "execution_count": null,
   "id": "cd99a34a-2da7-4668-bd98-bbd76d80fd6f",
   "metadata": {},
   "outputs": [],
   "source": [
    "# Start with 1ETH->BTC-DAI\n",
    "1ETH->0.03606BTC\n",
    "0.03606BTC->2515.50DAI\n",
    "2515.50DAI->0.993ETH"
   ]
  },
  {
   "cell_type": "code",
   "execution_count": null,
   "id": "f458bf62-05f9-491e-9098-01da46fd9968",
   "metadata": {},
   "outputs": [],
   "source": []
  },
  {
   "cell_type": "code",
   "execution_count": null,
   "id": "18dd30c4-af25-498b-80f4-0d3bb2722864",
   "metadata": {},
   "outputs": [],
   "source": []
  },
  {
   "cell_type": "code",
   "execution_count": null,
   "id": "6d5ef541-f279-4ad3-98d8-5d4f17ab0b31",
   "metadata": {},
   "outputs": [],
   "source": [
    " "
   ]
  },
  {
   "cell_type": "code",
   "execution_count": null,
   "id": "48185c53-8bda-4b74-b418-3cfcb740b7af",
   "metadata": {},
   "outputs": [],
   "source": [
    " "
   ]
  },
  {
   "cell_type": "code",
   "execution_count": null,
   "id": "9172151c-6339-4dc7-a82c-cec04d34bb2f",
   "metadata": {},
   "outputs": [],
   "source": [
    "btcusdt -> 70147.47 , 70147.46 (0.01)\n",
    "ethusdt -> 2526.99 , 2526.98 (0.01)\n",
    "ethbtc -> 0.03603 , 0.03602 (1e-05)\n",
    "Max ->  70000.0 , 2521.76 , 0.036\n",
    "Min -> 70233.7 , 2526.74 , 0.036\n",
    "Max:1.0007 Min:0.99934\n",
    "0.9998324990643147"
   ]
  },
  {
   "cell_type": "code",
   "execution_count": null,
   "id": "317fd59c-e0fa-442d-9682-6573293f7ef2",
   "metadata": {},
   "outputs": [],
   "source": [
    "ask1 = 70233.7\n",
    "ask2 = 2526.74\n",
    "ask3 = 0.036\n",
    "m = ask2/ask3\n",
    "m\n"
   ]
  },
  {
   "cell_type": "code",
   "execution_count": null,
   "id": "512306b6-d173-4d4e-b950-d45de2d34497",
   "metadata": {},
   "outputs": [],
   "source": [
    "# Trading Algorithic"
   ]
  },
  {
   "cell_type": "code",
   "execution_count": null,
   "id": "e02b8d01-7500-4748-ade7-48af969cf639",
   "metadata": {},
   "outputs": [],
   "source": [
    "ask1,bid1,ask2,iTime=0,0,0,0\n",
    "max1,min1,sMax,sMin = -1,10,'',''\n",
    "def on_messageTrade(ws, message):\n",
    "    global ask1,bid1,ask2,max1,min1,sMax,sMin,iTime\n",
    "    clear_output(wait=True)\n",
    "    iTime=iTime+1\n",
    "    json_msg = json.loads(message)\n",
    "    stream = json_msg['stream']\n",
    "    data = json_msg['data']\n",
    "    if symbol1 in stream:\n",
    "        ask1 = round( float(data['a']) , round1)  \n",
    "    if symbol2 in stream:\n",
    "        ask2 =  round( float(data['a'])  , round2) \n",
    "    if symbol3 in stream:\n",
    "        ask3 =  round( float(data['a'])   , round3) \n",
    "    \n",
    "        \n",
    "\n",
    "    Extra1 = ask2/ask3\n",
    "    Extra2 = Extra1/ask1\n",
    "    if(Extra2>max1):\n",
    "        max1 = Extra2\n",
    "        sMax='Max ->  '+str(ask1)+' , '+str(ask2)+' , '+str(ask3)\n",
    "    if(Extra2<min1):\n",
    "        min1 = Extra2\n",
    "        sMin='Min -> '+str(ask1)+' , '+str(ask2)+' , '+str(ask3)\n",
    "        \n",
    "\n",
    "    if(iTime>1000):\n",
    "        killwebsocket()\n",
    "        print('Close a Websocket');\n",
    "     \n",
    "    print(str(Extra2)+' -> '+str(iTime) )"
   ]
  },
  {
   "cell_type": "code",
   "execution_count": null,
   "id": "89df21bc-f99b-4cdb-b9a0-77eeaaf987c9",
   "metadata": {},
   "outputs": [],
   "source": [
    "def on_close(ws):\n",
    "    print(\"### websocket closed ###\")\n",
    "def killwebsocket():\n",
    "    global ws\n",
    "    ws.close()\n",
    "    \n",
    "def on_open(ws):\n",
    "    print(f\"Opened connection on {url}\")\n",
    "ws = websocket.WebSocketApp(SOCK, on_open=on_open, on_message=on_messageTrade,  on_close=on_close)\n",
    "\n",
    "ws.run_forever()"
   ]
  },
  {
   "cell_type": "code",
   "execution_count": 12,
   "id": "3d33754e-a3b7-42a5-acaa-9e90149f4fa4",
   "metadata": {},
   "outputs": [],
   "source": [
    "import threading\n",
    "import requests\n",
    "from threading import Thread\n",
    "from time import sleep"
   ]
  },
  {
   "cell_type": "code",
   "execution_count": null,
   "id": "56596fc0-5925-4414-b9f2-4449fa75456e",
   "metadata": {},
   "outputs": [],
   "source": [
    "start = Balance(0)\n",
    "    sleep(2)\n",
    "    end = Balance(0)\n",
    "    msg = Telegram_msg+'\\r\\n'+'Start: '+str(start)+' End: '+str(end)+' DIF: '+str( round(float(start)-float(end),4) )\n"
   ]
  },
  {
   "cell_type": "code",
   "execution_count": 13,
   "id": "323d6348-0900-47af-86f6-e3e6bf9580f6",
   "metadata": {},
   "outputs": [],
   "source": [
    "\n",
    "    "
   ]
  },
  {
   "cell_type": "code",
   "execution_count": 15,
   "id": "9c94dfb2-90ed-49e7-9dbd-a4653f6e7ef2",
   "metadata": {},
   "outputs": [
    {
     "name": "stdout",
     "output_type": "stream",
     "text": [
      "www\n",
      "{'ok': True, 'result': {'message_id': 1304, 'from': {'id': 5824283014, 'is_bot': True, 'first_name': 'MT4', 'username': 'fxcc_bot'}, 'chat': {'id': 808662582, 'first_name': 'HFT', 'last_name': 'Haidra', 'username': 'HFTHaidra', 'type': 'private'}, 'date': 1730881986, 'text': 'hello from your telegram bot'}}\n"
     ]
    }
   ],
   "source": [
    " \n",
    "thread = Thread(target = TelegramaApi)\n",
    "thread.start()\n",
    "print('www')"
   ]
  },
  {
   "cell_type": "code",
   "execution_count": null,
   "id": "84fde5e7-179d-43a3-9aea-b22d6c1765be",
   "metadata": {},
   "outputs": [],
   "source": []
  },
  {
   "cell_type": "code",
   "execution_count": null,
   "id": "f4f7bb86-d021-4b56-bf60-4220430d6aa0",
   "metadata": {},
   "outputs": [],
   "source": []
  },
  {
   "cell_type": "code",
   "execution_count": null,
   "id": "7f135838-e68a-404e-9464-637c6078f0f4",
   "metadata": {},
   "outputs": [],
   "source": []
  },
  {
   "cell_type": "code",
   "execution_count": null,
   "id": "dcb1e72b-ffeb-4594-abba-ea2fa1b3382b",
   "metadata": {},
   "outputs": [],
   "source": []
  },
  {
   "cell_type": "code",
   "execution_count": null,
   "id": "20d8474a-c021-4371-9e5b-b076c3fd5746",
   "metadata": {},
   "outputs": [],
   "source": []
  },
  {
   "cell_type": "code",
   "execution_count": null,
   "id": "eee2d5ca-f907-4a8c-a2ed-941a2ee951a3",
   "metadata": {},
   "outputs": [],
   "source": []
  },
  {
   "cell_type": "code",
   "execution_count": null,
   "id": "29db38f1-070b-42a3-a6e9-f77a2fa1c913",
   "metadata": {},
   "outputs": [],
   "source": []
  },
  {
   "cell_type": "code",
   "execution_count": null,
   "id": "5cb89e56-c99e-4144-b015-09e7deaef959",
   "metadata": {},
   "outputs": [],
   "source": []
  },
  {
   "cell_type": "code",
   "execution_count": null,
   "id": "3d2a4744-d5b4-4e9a-a749-9bb2ff409075",
   "metadata": {},
   "outputs": [],
   "source": []
  },
  {
   "cell_type": "code",
   "execution_count": null,
   "id": "624a6c7e-b6b8-470c-939d-fad5ecc4ab24",
   "metadata": {},
   "outputs": [],
   "source": []
  }
 ],
 "metadata": {
  "kernelspec": {
   "display_name": "Python 3 (ipykernel)",
   "language": "python",
   "name": "python3"
  },
  "language_info": {
   "codemirror_mode": {
    "name": "ipython",
    "version": 3
   },
   "file_extension": ".py",
   "mimetype": "text/x-python",
   "name": "python",
   "nbconvert_exporter": "python",
   "pygments_lexer": "ipython3",
   "version": "3.12.4"
  }
 },
 "nbformat": 4,
 "nbformat_minor": 5
}
