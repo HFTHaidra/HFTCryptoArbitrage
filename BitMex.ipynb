{
 "cells": [
  {
   "cell_type": "code",
   "execution_count": null,
   "id": "679b1b88-53d9-4267-8f6c-94e08bbf1f3b",
   "metadata": {},
   "outputs": [],
   "source": [
    "# Bitmex\n",
    "ID='k94TAtbCGoYZ40LiqdteNuKi'\n",
    "Secret='GKXj5S5zEGz7ZZmBs-p4b4mN-Sl4EY6iZxEGLEB3IG3czj4S'"
   ]
  },
  {
   "cell_type": "code",
   "execution_count": null,
   "id": "7a778ea5-7e82-42b2-8898-23557a09b2f7",
   "metadata": {},
   "outputs": [],
   "source": [
    "import websocket,json\n",
    "import _thread\n",
    "import time\n",
    "import rel\n",
    "from IPython.display import clear_output\n",
    "symbol1 = 'XBTUSDT'\n",
    "symbol2 = 'ETHUSDT'\n",
    "symbol3 = 'XBTETH'\n",
    "round1 = 2 ;\n",
    "round2 = 2 ;\n",
    "round3 = 5 ;\n"
   ]
  },
  {
   "cell_type": "code",
   "execution_count": null,
   "id": "73662fc1-04db-44e3-b252-18aa258c0f8c",
   "metadata": {},
   "outputs": [],
   "source": [
    "ask1,bid1,ask2,bid2,ask3,bid3=0,0,0,0,0,0\n",
    "Spread1,Spread2,Spread3=0,0,0\n",
    "max1,min1,sMax,sMin = -1,10,'',''\n",
    "def on_message(ws, message):\n",
    "    print(message)\n",
    "    global ask1,bid1,ask2,bid2,ask3,bid3,Spread1,Spread2,Spread3,max1,min1,sMax,sMin\n",
    "    if(('bidPrice' in message) and ('keys') not in message):\n",
    "        clear_output(wait=True)\n",
    "        json_msg = json.loads(message)\n",
    "        data = json_msg['data'][0]\n",
    "        stream = data['symbol']\n",
    "        if symbol1 in stream:\n",
    "            bid1 = round( float(data['bidPrice']) , round1)\n",
    "        if symbol2 in stream:\n",
    "            bid2 = round( float(data['bidPrice']) , round2)\n",
    "            \n",
    "        if symbol3 in stream:\n",
    "            bid3 = round( float(data['bidPrice']) , round3)\n",
    "            print(data)\n",
    "\n",
    "        #print(data)\n",
    "        #print(data)\n",
    "        //print(str(bid1)+' '+str(bid2) + ' '+str(bid3))\n",
    "        "
   ]
  },
  {
   "cell_type": "code",
   "execution_count": null,
   "id": "ecc08b71-735b-4b1f-a0bc-c14c7a658d41",
   "metadata": {},
   "outputs": [],
   "source": [
    "SOCK = 'wss://ws.bitmex.com/realtime?subscribe=instrument:ETHUSDT,instrument:XBTUSD,instrument:XBTETH'\n",
    "def on_close(ws):\n",
    "    print(\"### websocket closed ###\")\n",
    "\n",
    "def on_open(ws):\n",
    "    print(f\"Opened connection on {url}\")\n",
    "ws = websocket.WebSocketApp(SOCK, on_open=on_open, on_message=on_message,  on_close=on_close)\n",
    "#bidPrice\n",
    "#askPrice\n",
    "ws.run_forever()\n"
   ]
  },
  {
   "cell_type": "code",
   "execution_count": null,
   "id": "a58f9c60-5802-4c3b-abc2-f0506c4e1b1d",
   "metadata": {},
   "outputs": [],
   "source": [
    "if(Extra2>max1):\n",
    "            max1 = Extra2\n",
    "            sMax='Max ->  '+str(bid1)+' , '+str(bid2)+' , '+str(bid3)\n",
    "        if(Extra2<min1):\n",
    "            min1 = Extra2\n",
    "            sMin='Min -> '+str(bid1)+' , '+str(bid2)+' , '+str(bid3)"
   ]
  }
 ],
 "metadata": {
  "kernelspec": {
   "display_name": "Python 3 (ipykernel)",
   "language": "python",
   "name": "python3"
  },
  "language_info": {
   "codemirror_mode": {
    "name": "ipython",
    "version": 3
   },
   "file_extension": ".py",
   "mimetype": "text/x-python",
   "name": "python",
   "nbconvert_exporter": "python",
   "pygments_lexer": "ipython3",
   "version": "3.12.4"
  }
 },
 "nbformat": 4,
 "nbformat_minor": 5
}
