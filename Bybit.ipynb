{
 "cells": [
  {
   "cell_type": "code",
   "execution_count": 1,
   "id": "d8bdc61c-486f-4a53-bf35-954279db6c5f",
   "metadata": {},
   "outputs": [],
   "source": [
    "#pip install pybit"
   ]
  },
  {
   "cell_type": "code",
   "execution_count": 2,
   "id": "37a06d8d-d3f2-4a25-925e-f93cbf2e25c7",
   "metadata": {},
   "outputs": [],
   "source": [
    "from pybit.unified_trading import HTTP\n",
    "import time\n",
    "from pybit.unified_trading import WebSocket\n",
    "from time import sleep\n",
    "from IPython.display import clear_output\n",
    "import requests\n",
    "from threading import Thread\n",
    "session = HTTP(\n",
    "    testnet=False,\n",
    "    api_key=\"smOJZdsX25D1EYURGI\",\n",
    "    api_secret=\"kQjJ0R6X32FBwSzvR0bEOIpMknNVq0eLmCO1\"\n",
    ")\n",
    "\n",
    "session2 = HTTP(\n",
    "    testnet=False,\n",
    "    api_key=\"De49ITVcX1o4K9vqM4\",\n",
    "    api_secret=\"XiZhVj7ag8J7Jxvqis1ruyTGpYyaTquNlFOz\"\n",
    ")\n",
    "info,balance,availableToWithdraw1,availableToWithdraw2=0,0,0,0\n",
    "def current_milli_time():\n",
    "    return round(time.time() * 1000)\n",
    "try:\n",
    "    info = session.get_account_info(category=\"linear\", symbol=\"BTCUSDT\")\n",
    "except Exception as e:\n",
    "    print(f\"An error occurred: {e}\")\n",
    "def Balance(u):\n",
    "    res = '0'\n",
    "    try:\n",
    "        balance = session.get_wallet_balance(accountType=\"UNIFIED\", symbol='USDT')\n",
    "        res = balance['result']['list'][0]['coin'][u]['availableToWithdraw']\n",
    "        \n",
    "    except Exception as e:\n",
    "        print(f\"An error occurred: {e}\")\n",
    "    return res\n",
    "def Balance2(u):\n",
    "    res = '0'\n",
    "    try:\n",
    "        balance = session2.get_wallet_balance(accountType=\"UNIFIED\", symbol='USDT')\n",
    "        res = balance['result']['list'][0]['coin'][u]['availableToWithdraw']\n",
    "        \n",
    "    except Exception as e:\n",
    "        print(f\"An error occurred: {e}\")\n",
    "    return res\n",
    "def Buy():\n",
    "    global sy,qt\n",
    "    try:\n",
    "        res = session.place_order(\n",
    "        category=\"linear\",\n",
    "        symbol=sy,\n",
    "        side=\"Buy\",\n",
    "        orderType=\"Market\",\n",
    "        qty=qt)\n",
    "        orderId = res['result']['orderId']\n",
    "        return orderId\n",
    "    except Exception as e:\n",
    "        print(f\"An error occurred: {e}\")\n",
    "        return e\n",
    "def Buy2():\n",
    "    global sy,qt\n",
    "    try:\n",
    "        res = session2.place_order(\n",
    "        category=\"linear\",\n",
    "        symbol=sy,\n",
    "        side=\"Buy\",\n",
    "        orderType=\"Market\",\n",
    "        qty=qt)\n",
    "        orderId = res['result']['orderId']\n",
    "        return orderId\n",
    "    except Exception as e:\n",
    "        print(f\"An error occurred: {e}\")\n",
    "        return e\n",
    "def Sell():\n",
    "    global sy,qt\n",
    "    try:\n",
    "        res = session.place_order(\n",
    "        category=\"linear\",\n",
    "        symbol=sy,\n",
    "        side=\"Sell\",\n",
    "        orderType=\"Market\",\n",
    "        qty=qt)\n",
    "        orderId = res['result']['orderId']\n",
    "        return orderId\n",
    "    except Exception as e:\n",
    "        print(f\"An error occurred: {e}\")\n",
    "        return e\n",
    "def Sell2():\n",
    "    global sy,qt\n",
    "    try:\n",
    "        res = session2.place_order(\n",
    "        category=\"linear\",\n",
    "        symbol=sy,\n",
    "        side=\"Sell\",\n",
    "        orderType=\"Market\",\n",
    "        qty=qt)\n",
    "        orderId = res['result']['orderId']\n",
    "        return orderId\n",
    "    except Exception as e:\n",
    "        print(f\"An error occurred: {e}\")\n",
    "        return e\n",
    "Telegram_msg = \"hello from your telegram bot\"\n",
    "def TelegramaApi():\n",
    "    global Telegram_msg\n",
    "    TOKEN = \"5824283014:AAG0bNy2sfRnQMmZmWWlQKQcBDPXJLl3YQs\"\n",
    "    chat_id = \"808662582\" \n",
    "    url = f\"https://api.telegram.org/bot{TOKEN}/sendMessage?chat_id={chat_id}&text={Telegram_msg}\"\n",
    "    print(requests.get(url).json()) # this sends the message"
   ]
  },
  {
   "cell_type": "code",
   "execution_count": 3,
   "id": "a2bad477-d62f-4f6d-b8ec-0904400aeeea",
   "metadata": {},
   "outputs": [
    {
     "name": "stdout",
     "output_type": "stream",
     "text": [
      "Enchange 1 Balance: 19.58571882USDT\n",
      "Enchange 2 Balance: 9.62205076USDT\n"
     ]
    }
   ],
   "source": [
    "print('Enchange 1 Balance: '+Balance(0)+'USDT')\n",
    "print('Enchange 2 Balance: '+Balance2(0)+'USDT')"
   ]
  },
  {
   "cell_type": "code",
   "execution_count": 4,
   "id": "fc844908-2c1e-4a92-9d29-64e35908a769",
   "metadata": {},
   "outputs": [],
   "source": [
    "#//-------------------------------------------------------------------------"
   ]
  },
  {
   "cell_type": "code",
   "execution_count": 5,
   "id": "ac8d00f4-82c6-4e44-b4bb-c59e57ed3f8d",
   "metadata": {},
   "outputs": [],
   "source": [
    "Consolemsg,Maxmsg,Minmsg,symbol,msg = '','','','',''\n",
    "ask,bid,MaxSpred,MinSpread,digit = 0,0,-1,1000,2\n",
    "def handle_message(message):\n",
    "    global Consolemsg,Maxmsg,Minmsg,symbol,MaxSpred,MinSpread,msg,ask,bid,digit,EndPointPositive,Telegram_msg,iEndPointPositive\n",
    "    clear_output(wait=True)\n",
    "    if(message['type']=='snapshot'):\n",
    "        symbol = message['data']['symbol']\n",
    "        if(symbol==sy):\n",
    "            ask = float(message['data']['ask1Price'])\n",
    "            bid = float(message['data']['bid1Price'])\n",
    "            spread = round(ask-bid,digit)\n",
    "            spread_p =  round(  (spread*100)/bid , 4)\n",
    "            Consolemsg = \"Resive: \" + symbol + \", \" + str(ask) + \", \" + str(bid) + \" Spread:(\" + str(spread) + \")/(\" + str(spread_p) + \"%)\";\n",
    "            if(spread>MaxSpred):\n",
    "                MaxSpred = spread\n",
    "                Maxmsg = Consolemsg\n",
    "            if(spread<MinSpread):\n",
    "                MinSpread =spread \n",
    "                Minmsg = Consolemsg \n",
    "            print(Consolemsg)\n",
    "            print('MAX-> '+Maxmsg)\n",
    "            print('Min-> '+Minmsg)\n",
    "            if(spread_p>EndPointPositive):\n",
    "                iEndPointPositive = iEndPointPositive-1\n",
    "                if(iEndPointPositive>=0):\n",
    "                    ArbitrageTrades()\n",
    "                    Telegram_msg = Consolemsg+'\\r\\n'+Maxmsg+'\\r\\n'+Minmsg\n",
    "                    TelegramaApi()\n",
    "                    \n",
    "            \n",
    "        \n",
    "         \n",
    "    "
   ]
  },
  {
   "cell_type": "code",
   "execution_count": 6,
   "id": "5c7b0e9d-1ea7-4a3c-8db7-307c15f4d671",
   "metadata": {},
   "outputs": [
    {
     "name": "stdout",
     "output_type": "stream",
     "text": [
      "Enchange 1 Balance: 19.58571882USDT\n",
      "Enchange 2 Balance: 9.62205076USDT\n"
     ]
    }
   ],
   "source": [
    "def ArbitrageTrades():\n",
    "    global sy,qt\n",
    "    thread1 = Thread(target = Buy)\n",
    "    thread1.start()\n",
    "    thread2 = Thread(target = Sell2)\n",
    "    thread2.start()\n",
    "\n",
    "print('Enchange 1 Balance: '+Balance(0)+'USDT')\n",
    "print('Enchange 2 Balance: '+Balance2(0)+'USDT')"
   ]
  },
  {
   "cell_type": "code",
   "execution_count": 7,
   "id": "abe2f868-31f5-471a-a78b-18a82e45ce8d",
   "metadata": {},
   "outputs": [
    {
     "name": "stdout",
     "output_type": "stream",
     "text": [
      "Resive: SOL-29NOV24, 186.38, 185.75 Spread:(0.63)/(0.3392%)\n",
      "MAX-> Resive: SOL-29NOV24, 187.15, 184.55 Spread:(2.6)/(1.4088%)\n",
      "Min-> Resive: SOL-29NOV24, 187.15, 186.92 Spread:(0.23)/(0.123%)\n"
     ]
    }
   ],
   "source": [
    "sy='SOL-29NOV24'\n",
    "qt = '0.04'\n",
    "digit = 2\n",
    "EndPointPositive = 0.8\n",
    "iEndPointPositive = 1;\n",
    "ws = WebSocket(\n",
    "    testnet=False,\n",
    "    channel_type=\"linear\",\n",
    "    api_key=\"smOJZdsX25D1EYURGI\",\n",
    "    api_secret=\"kQjJ0R6X32FBwSzvR0bEOIpMknNVq0eLmCO1\"\n",
    ")\n",
    "\n",
    "ws.ticker_stream(\n",
    "    symbol=sy,\n",
    "    callback=handle_message\n",
    ")"
   ]
  },
  {
   "cell_type": "code",
   "execution_count": null,
   "id": "81d9782e-3185-47fb-b08a-eaa050d25839",
   "metadata": {},
   "outputs": [],
   "source": []
  }
 ],
 "metadata": {
  "kernelspec": {
   "display_name": "Python 3 (ipykernel)",
   "language": "python",
   "name": "python3"
  },
  "language_info": {
   "codemirror_mode": {
    "name": "ipython",
    "version": 3
   },
   "file_extension": ".py",
   "mimetype": "text/x-python",
   "name": "python",
   "nbconvert_exporter": "python",
   "pygments_lexer": "ipython3",
   "version": "3.12.4"
  }
 },
 "nbformat": 4,
 "nbformat_minor": 5
}
