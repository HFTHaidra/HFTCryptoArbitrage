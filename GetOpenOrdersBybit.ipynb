{
 "cells": [
  {
   "cell_type": "code",
   "execution_count": 1,
   "id": "46b3d110-f752-4c20-abc9-200e4b6b8f62",
   "metadata": {},
   "outputs": [],
   "source": [
    "from pybit.unified_trading import HTTP\n",
    "import time\n",
    "from pybit.unified_trading import WebSocket\n",
    "from time import sleep\n",
    "from IPython.display import clear_output\n",
    "import requests\n",
    "from threading import Thread\n",
    "from pybit.unified_trading import HTTP\n",
    "\n",
    "sy='SOL-29NOV24'\n",
    "pk1 = 'smOJZdsX25D1EYURGI'\n",
    "sk1 = 'kQjJ0R6X32FBwSzvR0bEOIpMknNVq0eLmCO1'\n",
    "pk2 = 'De49ITVcX1o4K9vqM4'\n",
    "sk2 = 'XiZhVj7ag8J7Jxvqis1ruyTGpYyaTquNlFOz'\n",
    "\n",
    "session = HTTP( testnet=False,  api_key=pk1, api_secret=sk1,)\n",
    "session2 = HTTP( testnet=False,  api_key=pk2, api_secret=sk2,)"
   ]
  },
  {
   "cell_type": "code",
   "execution_count": 2,
   "id": "5b0003c6-a69d-4c9f-8c27-7a6d8fc4da56",
   "metadata": {},
   "outputs": [],
   "source": [
    "maxProfit = -1\n",
    "def loop():\n",
    "    global maxProfit\n",
    "    res = session.get_positions( category=\"linear\",symbol=sy )\n",
    "    symbol_ = res['result']['list'][0]['symbol']\n",
    "    unrealisedPnl = res['result']['list'][0]['unrealisedPnl']\n",
    "    side =  res['result']['list'][0]['side']\n",
    "    positionValue =  res['result']['list'][0]['positionValue']\n",
    "    positionIM =  res['result']['list'][0]['positionIM']\n",
    "    str1 = '(symbol_,side,unPnl,PV ,PIM = [ ' +  symbol_ +' , '+ side+', '+ unrealisedPnl +' , '+ positionValue +' , '+ positionIM+']'\n",
    "    if(unrealisedPnl!=''):\n",
    "        p1 = float(unrealisedPnl)\n",
    "        \n",
    "        res = session2.get_positions( category=\"linear\",symbol=sy )\n",
    "        symbol_ = res['result']['list'][0]['symbol']\n",
    "        unrealisedPnl = res['result']['list'][0]['unrealisedPnl']\n",
    "        side =  res['result']['list'][0]['side']\n",
    "        positionValue =  res['result']['list'][0]['positionValue']\n",
    "        positionIM =  res['result']['list'][0]['positionIM']\n",
    "        str2 = '(symbol_,side,unPnl,PV ,PIM = [ ' +  symbol_ +' , '+ side+', '+ unrealisedPnl +' , '+ positionValue +' , '+ positionIM +']'\n",
    "        if(unrealisedPnl!=''):\n",
    "            p2 = float(unrealisedPnl)\n",
    "            profit = p1+p2\n",
    "            if(profit>maxProfit):\n",
    "                maxProfit = profit\n",
    "            clear_output(wait=True)\n",
    "            print(str1)\n",
    "            print(str2)\n",
    "            print('Max/Profit: '+str(maxProfit)+' / '+str(profit))"
   ]
  },
  {
   "cell_type": "code",
   "execution_count": null,
   "id": "277dd5f1-3a1b-4b50-a8f2-9e365662cafa",
   "metadata": {},
   "outputs": [
    {
     "name": "stdout",
     "output_type": "stream",
     "text": [
      "(symbol_,side,unPnl,PV ,PIM = [ SOL-29NOV24 , Buy, -0.0232 , 7.4796 , 7.4796]\n",
      "(symbol_,side,unPnl,PV ,PIM = [ SOL-29NOV24 , Sell, 0.0052 , 7.4616 , 7.46980776]\n",
      "Max/Profit: -0.0148 / -0.018\n"
     ]
    }
   ],
   "source": [
    "for x in range(6000):\n",
    "    \n",
    "    loop()\n",
    "    sleep(1)"
   ]
  },
  {
   "cell_type": "code",
   "execution_count": null,
   "id": "ab6780c8-fbc1-49d5-94ae-8910ed789fb5",
   "metadata": {},
   "outputs": [],
   "source": []
  },
  {
   "cell_type": "code",
   "execution_count": null,
   "id": "0f483bc4-1265-4c9a-9b33-1eaffa33cefc",
   "metadata": {},
   "outputs": [],
   "source": []
  }
 ],
 "metadata": {
  "kernelspec": {
   "display_name": "Python 3 (ipykernel)",
   "language": "python",
   "name": "python3"
  },
  "language_info": {
   "codemirror_mode": {
    "name": "ipython",
    "version": 3
   },
   "file_extension": ".py",
   "mimetype": "text/x-python",
   "name": "python",
   "nbconvert_exporter": "python",
   "pygments_lexer": "ipython3",
   "version": "3.12.4"
  }
 },
 "nbformat": 4,
 "nbformat_minor": 5
}
