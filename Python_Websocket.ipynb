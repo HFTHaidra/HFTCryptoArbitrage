{
 "cells": [
  {
   "cell_type": "code",
   "execution_count": 1,
   "id": "318a3406-44fa-4bcf-a111-04080911bc3a",
   "metadata": {},
   "outputs": [
    {
     "name": "stdout",
     "output_type": "stream",
     "text": [
      "Requirement already satisfied: websocket-client in c:\\users\\admin\\anaconda3\\envs\\mt\\lib\\site-packages (1.8.0)\n",
      "Requirement already satisfied: rel in c:\\users\\admin\\anaconda3\\envs\\mt\\lib\\site-packages (0.4.9.19)\n"
     ]
    }
   ],
   "source": [
    "!pip install websocket-client\n",
    "!pip install rel\n",
    "\n"
   ]
  },
  {
   "cell_type": "code",
   "execution_count": null,
   "id": "c25e0c9a-c2ed-47e7-b467-0a60064da62b",
   "metadata": {},
   "outputs": [],
   "source": [
    "import websocket\n",
    "import _thread\n",
    "import time\n",
    "import rel\n",
    "import ssl\n",
    "\n",
    "\n",
    "def on_message(ws, message):\n",
    "    print(message)\n",
    "\n",
    "def on_error(ws, error):\n",
    "    h = 1\n",
    "    ##print(error)\n",
    "\n",
    "def on_close(ws, close_status_code, close_msg):\n",
    "    print(\"### closed ###\")\n",
    "\n",
    "def on_open(ws):\n",
    "    print(\"Opened connection\")\n",
    "\n",
    "if __name__ == \"__main__\":\n",
    "    websocket.enableTrace(True) \n",
    "    ws = websocket.WebSocketApp(\"wss://mytrademanager.com/wsQuote?id=11envpiy-6kcy-kxwe-lnw7-mciilrbfmx2g\",on_message=on_message)\n",
    "\n",
    "    ws.run_forever(dispatcher=rel, reconnect=5)  # Set dispatcher to automatic reconnection, 5 second reconnect delay if connection closed unexpectedly\n",
    "    rel.signal(2, rel.abort)  # Keyboard Interrupt\n",
    "    rel.dispatch()"
   ]
  },
  {
   "cell_type": "code",
   "execution_count": 19,
   "id": "59a49851-f5ba-443d-b08c-274bbd24ba06",
   "metadata": {},
   "outputs": [],
   "source": [
    "#client example\n",
    "import socket\n",
    "client_socket = socket.socket(socket.AF_INET, socket.SOCK_STREAM)\n",
    "client_socket.connect(('localhost', 9999))\n",
    "msg = \"XXL\"\n",
    "data = bytes(msg, 'utf-8')\n",
    "client_socket.send(data)\n",
    "client_socket.close()\n",
    "          "
   ]
  },
  {
   "cell_type": "code",
   "execution_count": null,
   "id": "7e25b504-d10b-4a8e-90d0-8184e0985e10",
   "metadata": {},
   "outputs": [],
   "source": []
  },
  {
   "cell_type": "code",
   "execution_count": null,
   "id": "8d199300-88c1-4fa7-9656-6dbd26deeebe",
   "metadata": {},
   "outputs": [],
   "source": []
  },
  {
   "cell_type": "code",
   "execution_count": null,
   "id": "5ba7edc9-ad9a-43db-9fb6-c9e2e17b66cf",
   "metadata": {},
   "outputs": [],
   "source": [
    "BuyOrder('BTCUSDT',0.0001)\n"
   ]
  },
  {
   "cell_type": "code",
   "execution_count": null,
   "id": "ba9cefb0-bac5-4d22-9cdb-f74e70447622",
   "metadata": {},
   "outputs": [],
   "source": [
    "Buy Order Done :{'symbol': 'BTCUSDT', 'orderId': 31877935389, 'orderListId': -1, 'clientOrderId': 'x-HNA2TXFJ81d9f80f4c54ac22c379ca', \n",
    "                 'transactTime': 1730559818025, 'price': '0.00000000', 'origQty': '0.00010000', 'executedQty': '0.00010000', \n",
    "                 'cummulativeQuoteQty': '6.91627700', 'status': 'FILLED', 'timeInForce': 'GTC', 'type': 'MARKET', 'side': 'BUY',\n",
    "                 'workingTime': 1730559818025, 'fills': [{'price': '69162.77000000', 'qty': '0.00010000', 'commission': '0.00000010',\n",
    "                                                          'commissionAsset': 'BTC', 'tradeId': 3993502642}],\n",
    "                 'selfTradePreventionMode': 'EXPIRE_MAKER'}\n"
   ]
  }
 ],
 "metadata": {
  "kernelspec": {
   "display_name": "Python 3 (ipykernel)",
   "language": "python",
   "name": "python3"
  },
  "language_info": {
   "codemirror_mode": {
    "name": "ipython",
    "version": 3
   },
   "file_extension": ".py",
   "mimetype": "text/x-python",
   "name": "python",
   "nbconvert_exporter": "python",
   "pygments_lexer": "ipython3",
   "version": "3.12.4"
  }
 },
 "nbformat": 4,
 "nbformat_minor": 5
}
