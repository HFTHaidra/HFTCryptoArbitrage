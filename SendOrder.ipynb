{
 "cells": [
  {
   "cell_type": "code",
   "execution_count": 4,
   "id": "6dc48a35-4621-4cae-943d-3bc0ce8aba24",
   "metadata": {},
   "outputs": [],
   "source": [
    "import websocket,json\n",
    "import _thread\n",
    "import time\n",
    "import rel\n",
    "from datetime import datetime\n",
    "from datetime import timedelta\n",
    "import math\n",
    "\n",
    "from IPython.display import clear_output\n",
    "from binance.client import Client\n",
    "\n",
    "APIKey = \"QbuTxekA4Akzq0OPkGifpztmPePHKRYkCNNDsvu0GKvVJK3QCHAomiMzGpGxGh38\";\n",
    "SecretKey = \"8wd3erOoDXWYTKXNye9G0aB22olJJb7iXMsls0PFfcFaXTUkogcfwxgT2EbumhDL\";\n",
    "symbol1 = 'btcusdt'\n",
    "symbol2 = 'ethusdt'\n",
    "symbol3 = 'ethbtc'\n",
    "round1 = 2 ;\n",
    "round2 = 2 ;\n",
    "round3 = 5 ;\n",
    "RoundQuantity = 4\n",
    "RoundQuantity2 = 5\n",
    "RoundQuantity3 = 4\n",
    "SOCK = 'wss://stream.binance.com:9443/stream?streams='+symbol1+'@bookTicker/'+symbol2+'@bookTicker/'+symbol3+'@bookTicker'\n",
    "client = Client(APIKey,SecretKey)\n",
    "def current_milli_time():\n",
    "    return round(time.time() * 1000)"
   ]
  },
  {
   "cell_type": "code",
   "execution_count": 5,
   "id": "969dc869-eeb5-4ad4-be48-5c1b814ff061",
   "metadata": {},
   "outputs": [],
   "source": [
    "client.get_account()\n",
    "t0 = current_milli_time()\n",
    "symbol = 'BTCUSDT'\n",
    "ticker = client.get_symbol_ticker(symbol=symbol)\n",
    "ticker_price = float(ticker['price'])\n",
    "t1 = current_milli_time()\n",
    "ticker,ticker_price,str(t1-t0)+'ms'\n",
    "\n",
    "def BuyOrder(sym,quantity): # BTCUSDT quantity of BTC\n",
    "    t0 = current_milli_time()\n",
    "    order = client.order_market_buy(symbol=sym,quantity = quantity)\n",
    "    tm = current_milli_time() - t0\n",
    "    print(f'Buy Order Done in {tm}ms :{order}')\n",
    "    return order\n",
    "def SellOrder(sym,quantity):  # BTCUSDT quantity of BTC\n",
    "    t0 = current_milli_time()\n",
    "    order = client.order_market_sell(symbol=sym,quantity = quantity)\n",
    "    tm = current_milli_time() - t0\n",
    "    print(f'Sell Order Done in {tm}ms :{order}')\n",
    "    return order"
   ]
  },
  {
   "cell_type": "code",
   "execution_count": 7,
   "id": "12958829-8d07-4196-a09a-71386664ea2b",
   "metadata": {},
   "outputs": [],
   "source": [
    "def GetBalance(get_account,crypto):\n",
    "    Balance = client.get_account()['balances']\n",
    "    res = '0'\n",
    "    for x in Balance:\n",
    "        if(x['asset']==crypto):\n",
    "            res = x['free']\n",
    "    return float(res)\n",
    "def ceil(Balance,Round):\n",
    "    res = Balance\n",
    "    if('e' not in str(Balance) ):\n",
    "        res = str(Balance)+'xlljj'\n",
    "        res = res[:res.index('.')+Round+1]\n",
    "    return float(res)"
   ]
  },
  {
   "cell_type": "code",
   "execution_count": 8,
   "id": "87304d61-c3be-4fd7-b907-97aa67a0670c",
   "metadata": {},
   "outputs": [
    {
     "data": {
      "text/plain": [
       "(0.04096579, 0.0409)"
      ]
     },
     "execution_count": 8,
     "metadata": {},
     "output_type": "execute_result"
    }
   ],
   "source": [
    "Balance = GetBalance(client.get_account(),'ETH') \n",
    "BalanceRound = ceil(Balance,RoundQuantity)\n",
    "Balance,BalanceRound"
   ]
  },
  {
   "cell_type": "code",
   "execution_count": 74,
   "id": "5adb465a-5b49-47f0-a3d4-f10cfa0ec705",
   "metadata": {},
   "outputs": [
    {
     "name": "stdout",
     "output_type": "stream",
     "text": [
      "Start Getting pricess\n",
      "Done Get Prices ... in 1276ms\n",
      "BTCDAI Price {'symbol': 'BTCDAI', 'price': '68352.04000000'}\n",
      "ETHBTC Price {'symbol': 'ETHBTC', 'price': '0.03591000'}\n",
      "Starting Balance:0.04547595ETH -> 0.0454ETH\n",
      "Start  3Leg ...\n",
      "Sell Order Done in 297ms :{'symbol': 'ETHDAI', 'orderId': 840098286, 'orderListId': -1, 'clientOrderId': 'x-HNA2TXFJa561b07b6444fef68dff6a', 'transactTime': 1730629477883, 'price': '0.00000000', 'origQty': '0.04540000', 'executedQty': '0.04540000', 'cummulativeQuoteQty': '111.50557800', 'status': 'FILLED', 'timeInForce': 'GTC', 'type': 'MARKET', 'side': 'SELL', 'workingTime': 1730629477883, 'fills': [{'price': '2456.07000000', 'qty': '0.04540000', 'commission': '0.11150558', 'commissionAsset': 'DAI', 'tradeId': 13984491}], 'selfTradePreventionMode': 'EXPIRE_MAKER'}\n",
      "QuoteQtyRound: 111.394072\n",
      "--\n",
      "--\n",
      "Buy Order Done in 307ms :{'symbol': 'BTCDAI', 'orderId': 548478304, 'orderListId': -1, 'clientOrderId': 'x-HNA2TXFJ7c38e2dcf5e363dd31d513', 'transactTime': 1730629478184, 'price': '0.00000000', 'origQty': '0.00162000', 'executedQty': '0.00162000', 'cummulativeQuoteQty': '110.79040680', 'status': 'FILLED', 'timeInForce': 'GTC', 'type': 'MARKET', 'side': 'BUY', 'workingTime': 1730629478184, 'fills': [{'price': '68389.14000000', 'qty': '0.00162000', 'commission': '0.00000162', 'commissionAsset': 'BTC', 'tradeId': 6519434}], 'selfTradePreventionMode': 'EXPIRE_MAKER'}\n",
      "QuoteQtyRound: 110.790405\n",
      "BalanceRound: 0.00161838\n",
      "--\n",
      "--\n",
      "Buy Order Done in 327ms :{'symbol': 'ETHBTC', 'orderId': 4156476462, 'orderListId': -1, 'clientOrderId': 'x-HNA2TXFJ6c40bee82245c74508e0fd', 'transactTime': 1730629478480, 'price': '0.00000000', 'origQty': '0.04500000', 'executedQty': '0.04500000', 'cummulativeQuoteQty': '0.00161640', 'status': 'FILLED', 'timeInForce': 'GTC', 'type': 'MARKET', 'side': 'BUY', 'workingTime': 1730629478480, 'fills': [{'price': '0.03592000', 'qty': '0.04500000', 'commission': '0.00004500', 'commissionAsset': 'ETH', 'tradeId': 471566544}], 'selfTradePreventionMode': 'EXPIRE_MAKER'}\n",
      "QuoteQtyRound: 110.790405\n",
      "BalanceRoundX: 0.045\n",
      "Balance: 0.04502266917293233\n",
      "Done 3Leg ... in 931ms\n"
     ]
    }
   ],
   "source": [
    "print(f'Start Getting pricess')\n",
    "iTime = current_milli_time()\n",
    "Balance = GetBalance(client.get_account(),'ETH')  \n",
    "ticker2 = client.get_symbol_ticker(symbol='BTCDAI')  \n",
    "ticker3 = client.get_symbol_ticker(symbol='ETHBTC')\n",
    "ms = current_milli_time() - iTime\n",
    "print(f'Done Get Prices ... in {ms}ms')\n",
    "print(f'BTCDAI Price {ticker2}')\n",
    "print(f'ETHBTC Price {ticker3}')\n",
    "\n",
    "BalanceRound = ceil(Balance,RoundQuantity)\n",
    "print(f'Starting Balance:{Balance}ETH -> {BalanceRound}ETH')\n",
    "QuoteQty,QuoteQtyRound,commission=0,0,0\n",
    "def HFT3Leg(StartBalance,Leg1,Leg2,Leg3):\n",
    "    global QuoteQtyRound,QuoteQty,BalanceRound\n",
    "    try:\n",
    "        order = SellOrder(Leg1,StartBalance) \n",
    "        cummulativeQuoteQty = float(order['cummulativeQuoteQty'])\n",
    "        commission = order['fills']\n",
    "        commission = float(commission[0]['commission'])\n",
    "        QuoteQty = cummulativeQuoteQty - commission\n",
    "        QuoteQtyRound = ceil(QuoteQty,RoundQuantity+2) \n",
    "        print('QuoteQtyRound: '+str(QuoteQtyRound))\n",
    "    except Exception as e:\n",
    "        print(f\"An error occurred: {e}\")\n",
    "        info = client.get_symbol_info(Leg1)\n",
    "        \n",
    "\n",
    "    print('--')\n",
    "    print('--') \n",
    "    ticker_price2 = float(ticker2['price'])\n",
    "    Balance = QuoteQtyRound/ticker_price2\n",
    "    BalanceRound = ceil(Balance,RoundQuantity2) \n",
    "    try:\n",
    "        order = BuyOrder(Leg2,BalanceRound) \n",
    "        cummulativeQuoteQty = float(order['cummulativeQuoteQty'])\n",
    "        commission = order['fills']\n",
    "        commission = float(commission[0]['commission'])\n",
    "        QuoteQty = cummulativeQuoteQty - commission\n",
    "        QuoteQtyRound = ceil(QuoteQty,RoundQuantity+2)\n",
    "    except Exception as e:\n",
    "        print(f\"An error occurred: {e}\")\n",
    "        info = client.get_symbol_info(Leg1)\n",
    "    \n",
    "    BalanceRound=BalanceRound-(BalanceRound*0.001)\n",
    "    print('QuoteQtyRound: '+str(QuoteQtyRound))\n",
    "    print('BalanceRound: '+str(BalanceRound)) \n",
    "\n",
    "    \n",
    "    print('--')\n",
    "    print('--') \n",
    "    ticker_price3 = float(ticker3['price'])\n",
    "    Balance = BalanceRound/ticker_price3\n",
    "    BalanceRoundX = ceil(Balance,RoundQuantity3) \n",
    "    try:\n",
    "        order = BuyOrder(Leg3,BalanceRoundX) \n",
    "        cummulativeQuoteQty = float(order['cummulativeQuoteQty'])\n",
    "        commission = order['fills']\n",
    "        commission = float(commission[0]['commission'])\n",
    "        QuoteQty = cummulativeQuoteQty - commission\n",
    "        Balance = Balance - commission\n",
    "    except Exception as e:\n",
    "        print(f\"An error occurred: {e}\")\n",
    "        info = client.get_symbol_info(Leg1)\n",
    "    \n",
    "     \n",
    "    print('QuoteQtyRound: '+str(QuoteQtyRound))\n",
    "    print('BalanceRoundX: '+str(BalanceRoundX))\n",
    "    print('Balance: '+str(Balance))\n",
    "\n",
    "print(f'Start  3Leg ...')\n",
    "iTime = current_milli_time() \n",
    "HFT3Leg(BalanceRound,'ETHDAI','BTCDAI','ETHBTC')\n",
    "ms = current_milli_time() - iTime\n",
    "print(f'Done 3Leg ... in {ms}ms')"
   ]
  },
  {
   "cell_type": "code",
   "execution_count": null,
   "id": "d59ddd91-0d9d-4bf9-903c-b42abf8bc3d6",
   "metadata": {},
   "outputs": [],
   "source": []
  },
  {
   "cell_type": "code",
   "execution_count": null,
   "id": "9c3b39b2-3302-4624-a21e-6daec6dd38bd",
   "metadata": {},
   "outputs": [],
   "source": []
  },
  {
   "cell_type": "code",
   "execution_count": null,
   "id": "53c5b5d8-c74d-4de0-9ffb-ddb63a842679",
   "metadata": {},
   "outputs": [],
   "source": []
  },
  {
   "cell_type": "code",
   "execution_count": 43,
   "id": "ad842d1b-f1c5-44e1-9dd3-cb110d2be1bc",
   "metadata": {},
   "outputs": [
    {
     "data": {
      "text/plain": [
       "0.0001998"
      ]
     },
     "execution_count": 43,
     "metadata": {},
     "output_type": "execute_result"
    }
   ],
   "source": [
    "BalanceRound = 0.0001998\n",
    "BalanceRound"
   ]
  },
  {
   "cell_type": "code",
   "execution_count": 49,
   "id": "1d54b4f7-f1c2-40d7-98b9-082938de8afb",
   "metadata": {},
   "outputs": [
    {
     "data": {
      "text/plain": [
       "(0.0001998, 0.03589, 0.005567010309278351, 0.0055)"
      ]
     },
     "execution_count": 49,
     "metadata": {},
     "output_type": "execute_result"
    }
   ],
   "source": [
    "ticker = client.get_symbol_ticker(symbol='ETHBTC')\n",
    "ticker_price = float(ticker['price'])\n",
    "Balance = BalanceRound/ticker_price\n",
    "BalanceRoundX = ceil(Balance,RoundQuantity3) \n",
    "BalanceRound,ticker_price,Balance,BalanceRoundX"
   ]
  },
  {
   "cell_type": "code",
   "execution_count": 47,
   "id": "231ee817-f429-4019-96b2-13f105438601",
   "metadata": {},
   "outputs": [
    {
     "name": "stdout",
     "output_type": "stream",
     "text": [
      "An error occurred: APIError(code=-1100): Illegal characters found in parameter 'quantity'; legal range is '^([0-9]{1,20})(\\.[0-9]{1,20})?$'.\n",
      "QuoteQtyRound: 13.659447\n",
      "BalanceRound: 0.0001998\n"
     ]
    }
   ],
   "source": [
    "\n",
    "try:\n",
    "    order = BuyOrder('ETHBTC',BalanceRoundX) \n",
    "    cummulativeQuoteQty = float(order['cummulativeQuoteQty'])\n",
    "    commission = order['fills']\n",
    "    commission = float(commission[0]['commission'])\n",
    "except Exception as e:\n",
    "    print(f\"An error occurred: {e}\")\n",
    "    info = client.get_symbol_info('ETHBTC')\n",
    "\n",
    "print('QuoteQtyRound: '+str(QuoteQtyRound))\n",
    "print('BalanceRound: '+str(BalanceRound))"
   ]
  },
  {
   "cell_type": "code",
   "execution_count": null,
   "id": "f39a910b-6879-47e2-b5c0-d24f7173bcbc",
   "metadata": {},
   "outputs": [],
   "source": [
    "ethbtc -> 0.03591 , 0.0359 (1e-05)\n",
    "ethdai -> 2462.78 , 2459.92 (2.86)\n",
    "btcdai -> 68572.51 , 68449.87 (122.64)\n",
    "Max ->  0.03591 , 2462.78 , 68572.51\n",
    "Min -> 0.03591 , 2462.24 , 68573.66\n",
    "Max:1.00014 Min:0.9999\n",
    "1.0001385479693041\n",
    "Starting Balance:0.04355989ETH -> 0.0435ETH\n",
    "Start  3Leg ...\n",
    "Sell Order Done in 12ms :{'symbol': 'ETHDAI', 'orderId': 840114676, 'orderListId': -1, 'clientOrderId': 'x-HNA2TXFJb9f24a3ac70a2412665fbc', 'transactTime': 1730632662054, 'price': '0.00000000', 'origQty': '0.04350000', 'executedQty': '0.04350000', 'cummulativeQuoteQty': '107.00652000', 'status': 'FILLED', 'timeInForce': 'GTC', 'type': 'MARKET', 'side': 'SELL', 'workingTime': 1730632662054, 'fills': [{'price': '2459.92000000', 'qty': '0.04350000', 'commission': '0.10700652', 'commissionAsset': 'DAI', 'tradeId': 13984545}], 'selfTradePreventionMode': 'EXPIRE_MAKER'}\n",
    "QuoteQtyRound: 106.899513\n",
    "--\n",
    "--\n",
    "Buy Order Done in 9ms :{'symbol': 'BTCDAI', 'orderId': 548490207, 'orderListId': -1, 'clientOrderId': 'x-HNA2TXFJb87562f61463dc588a0467', 'transactTime': 1730632662063, 'price': '0.00000000', 'origQty': '0.00155000', 'executedQty': '0.00155000', 'cummulativeQuoteQty': '106.29058550', 'status': 'FILLED', 'timeInForce': 'GTC', 'type': 'MARKET', 'side': 'BUY', 'workingTime': 1730632662063, 'fills': [{'price': '68572.51000000', 'qty': '0.00017000', 'commission': '0.00000017', 'commissionAsset': 'BTC', 'tradeId': 6519516}, {'price': '68573.66000000', 'qty': '0.00108000', 'commission': '0.00000108', 'commissionAsset': 'BTC', 'tradeId': 6519517}, {'price': '68579.02000000', 'qty': '0.00030000', 'commission': '0.00000030', 'commissionAsset': 'BTC', 'tradeId': 6519518}], 'selfTradePreventionMode': 'EXPIRE_MAKER'}\n",
    "QuoteQtyRound: 106.290585\n",
    "BalanceRound: 0.00154845\n",
    "--\n",
    "--\n",
    "Buy Order Done in 8ms :{'symbol': 'ETHBTC', 'orderId': 4156487962, 'orderListId': -1, 'clientOrderId': 'x-HNA2TXFJ1b3c01a483fc8c677b58c6', 'transactTime': 1730632662072, 'price': '0.00000000', 'origQty': '0.04310000', 'executedQty': '0.04310000', 'cummulativeQuoteQty': '0.00154772', 'status': 'FILLED', 'timeInForce': 'GTC', 'type': 'MARKET', 'side': 'BUY', 'workingTime': 1730632662072, 'fills': [{'price': '0.03591000', 'qty': '0.04310000', 'commission': '0.00004310', 'commissionAsset': 'ETH', 'tradeId': 471567288}], 'selfTradePreventionMode': 'EXPIRE_MAKER'}\n",
    "QuoteQtyRound: 106.290585\n",
    "BalanceRoundX: 0.0431\n",
    "Balance: 0.04307720075187971\n",
    "Done 3Leg ... in 29ms"
   ]
  }
 ],
 "metadata": {
  "kernelspec": {
   "display_name": "Python 3 (ipykernel)",
   "language": "python",
   "name": "python3"
  },
  "language_info": {
   "codemirror_mode": {
    "name": "ipython",
    "version": 3
   },
   "file_extension": ".py",
   "mimetype": "text/x-python",
   "name": "python",
   "nbconvert_exporter": "python",
   "pygments_lexer": "ipython3",
   "version": "3.12.4"
  }
 },
 "nbformat": 4,
 "nbformat_minor": 5
}
