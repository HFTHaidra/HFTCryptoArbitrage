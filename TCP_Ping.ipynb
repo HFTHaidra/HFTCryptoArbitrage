{
 "cells": [
  {
   "cell_type": "code",
   "execution_count": 1,
   "id": "b821c061-c7e1-436f-91de-7fa8040bc9c6",
   "metadata": {},
   "outputs": [],
   "source": [
    "import socket\n",
    "\n",
    "def ping_server(server: str, port: int, timeout=3):\n",
    "    \"\"\"ping server\"\"\"\n",
    "    try:\n",
    "        socket.setdefaulttimeout(timeout)\n",
    "        s = socket.socket(socket.AF_INET, socket.SOCK_STREAM)\n",
    "        s.connect((server, port))\n",
    "    except OSError as error:\n",
    "        return False\n",
    "    else:\n",
    "        s.close()\n",
    "        return True"
   ]
  },
  {
   "cell_type": "code",
   "execution_count": 4,
   "id": "ef513245-76d9-450d-811c-3cd56309f46c",
   "metadata": {},
   "outputs": [
    {
     "data": {
      "text/plain": [
       "True"
      ]
     },
     "execution_count": 4,
     "metadata": {},
     "output_type": "execute_result"
    }
   ],
   "source": [
    "ping_server(\"stream.binance.com\",9443)"
   ]
  },
  {
   "cell_type": "code",
   "execution_count": 8,
   "id": "31113145-c0a8-4ae1-808c-2c72c5f41162",
   "metadata": {},
   "outputs": [
    {
     "name": "stdout",
     "output_type": "stream",
     "text": [
      "Requirement already satisfied: tcping in c:\\users\\admin\\anaconda3\\envs\\mt\\lib\\site-packages (0.1.1rc1)\n",
      "Requirement already satisfied: six in c:\\users\\admin\\anaconda3\\envs\\mt\\lib\\site-packages (from tcping) (1.16.0)\n",
      "Requirement already satisfied: click in c:\\users\\admin\\anaconda3\\envs\\mt\\lib\\site-packages (from tcping) (8.1.7)\n",
      "Requirement already satisfied: prettytable in c:\\users\\admin\\anaconda3\\envs\\mt\\lib\\site-packages (from tcping) (3.12.0)\n",
      "Requirement already satisfied: colorama in c:\\users\\admin\\anaconda3\\envs\\mt\\lib\\site-packages (from click->tcping) (0.4.6)\n",
      "Requirement already satisfied: wcwidth in c:\\users\\admin\\anaconda3\\envs\\mt\\lib\\site-packages (from prettytable->tcping) (0.2.5)\n",
      "Note: you may need to restart the kernel to use updated packages.\n"
     ]
    }
   ],
   "source": [
    "pip install tcping"
   ]
  },
  {
   "cell_type": "code",
   "execution_count": null,
   "id": "fe5a9679-a970-41ad-a851-967435a005e8",
   "metadata": {},
   "outputs": [
    {
     "name": "stdout",
     "output_type": "stream",
     "text": [
      "Connected to api.binance.com[:9443]: seq=1 time out!\n",
      "Connected to api.binance.com[:9443]: seq=2 time out!\n",
      "Connected to api.binance.com[:9443]: seq=3 time out!\n",
      "Connected to api.binance.com[:9443]: seq=4 time out!\n",
      "Connected to api.binance.com[:9443]: seq=5 time out!\n"
     ]
    }
   ],
   "source": [
    "from tcping import Ping\n",
    "ping = Ping('api.binance.com', 80, 60)\n",
    "ping.ping(6)\n",
    "\n",
    "ping = Ping('stream.binance.com', 9443, 60)\n",
    "ping.ping(443)"
   ]
  },
  {
   "cell_type": "code",
   "execution_count": 14,
   "id": "a54a699c-d2a8-42e6-832d-3576605df490",
   "metadata": {},
   "outputs": [],
   "source": []
  },
  {
   "cell_type": "code",
   "execution_count": null,
   "id": "6649cbea-b972-49c0-a29b-792bb0076c5f",
   "metadata": {},
   "outputs": [],
   "source": []
  },
  {
   "cell_type": "code",
   "execution_count": null,
   "id": "69074510-fc5b-4c65-a455-1957c2cac3b3",
   "metadata": {},
   "outputs": [],
   "source": []
  }
 ],
 "metadata": {
  "kernelspec": {
   "display_name": "Python 3 (ipykernel)",
   "language": "python",
   "name": "python3"
  },
  "language_info": {
   "codemirror_mode": {
    "name": "ipython",
    "version": 3
   },
   "file_extension": ".py",
   "mimetype": "text/x-python",
   "name": "python",
   "nbconvert_exporter": "python",
   "pygments_lexer": "ipython3",
   "version": "3.12.4"
  }
 },
 "nbformat": 4,
 "nbformat_minor": 5
}
