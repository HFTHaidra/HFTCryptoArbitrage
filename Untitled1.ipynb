{
 "cells": [
  {
   "cell_type": "code",
   "execution_count": 23,
   "id": "d4cc867d-1eef-484b-8e2d-8c617619f802",
   "metadata": {},
   "outputs": [
    {
     "name": "stdout",
     "output_type": "stream",
     "text": [
      "{'serverTime': 1730798911663}\n"
     ]
    }
   ],
   "source": [
    "#pip install binance-futures-connector\n",
    "from binance.cm_futures import CMFutures\n",
    "\n",
    "cm_futures_client = CMFutures()\n",
    "\n",
    "# get server time\n",
    "print(cm_futures_client.time())"
   ]
  },
  {
   "cell_type": "code",
   "execution_count": 25,
   "id": "12c678df-5243-40a5-bd41-f5e0b23079b6",
   "metadata": {},
   "outputs": [
    {
     "name": "stdout",
     "output_type": "stream",
     "text": [
      "An error occurred: (401, -2015, 'Invalid API-key, IP, or permissions for action, request ip: 154.121.18.13', {'Date': 'Tue, 05 Nov 2024 09:28:38 GMT', 'Content-Type': 'application/json', 'Content-Length': '96', 'Connection': 'keep-alive', 'Server': 'Tengine', 'X-MBX-USED-WEIGHT-1M': '6', 'x-response-time': '2ms', 'Access-Control-Allow-Origin': '*', 'Access-Control-Allow-Methods': 'GET, POST, PUT, DELETE, OPTIONS'})\n"
     ]
    }
   ],
   "source": [
    "\n",
    "cm_futures_client = CMFutures(key='QbuTxekA4Akzq0OPkGifpztmPePHKRYkCNNDsvu0GKvVJK3QCHAomiMzGpGxGh38',\n",
    "                              secret='8wd3erOoDXWYTKXNye9G0aB22olJJb7iXMsls0PFfcFaXTUkogcfwxgT2EbumhDL')\n",
    "\n",
    "# Get account information\n",
    "try:\n",
    "    print(cm_futures_client.account())\n",
    "except Exception as e:\n",
    "    print(f\"An error occurred: {e}\")\n"
   ]
  },
  {
   "cell_type": "code",
   "execution_count": 26,
   "id": "066f3027-d35e-4e72-92af-5cd2802b1280",
   "metadata": {},
   "outputs": [
    {
     "ename": "NameError",
     "evalue": "name 'bybit' is not defined",
     "output_type": "error",
     "traceback": [
      "\u001b[1;31m---------------------------------------------------------------------------\u001b[0m",
      "\u001b[1;31mNameError\u001b[0m                                 Traceback (most recent call last)",
      "Cell \u001b[1;32mIn[26], line 1\u001b[0m\n\u001b[1;32m----> 1\u001b[0m bybit\n\u001b[0;32m      2\u001b[0m smOJZdsX25D1EYURGI\n\u001b[0;32m      3\u001b[0m kQjJ0R6X32FBwSzvR0bEOIpMknNVq0eLmCO1\n",
      "\u001b[1;31mNameError\u001b[0m: name 'bybit' is not defined"
     ]
    }
   ],
   "source": [
    "bybit\n",
    "smOJZdsX25D1EYURGI\n",
    "kQjJ0R6X32FBwSzvR0bEOIpMknNVq0eLmCO1"
   ]
  },
  {
   "cell_type": "code",
   "execution_count": null,
   "id": "d9d45a8c-a9be-492d-ba1e-8b507ae70076",
   "metadata": {},
   "outputs": [],
   "source": []
  },
  {
   "cell_type": "code",
   "execution_count": null,
   "id": "6a345305-77c7-4252-91a6-4726dfd50059",
   "metadata": {},
   "outputs": [],
   "source": []
  }
 ],
 "metadata": {
  "kernelspec": {
   "display_name": "Python 3 (ipykernel)",
   "language": "python",
   "name": "python3"
  },
  "language_info": {
   "codemirror_mode": {
    "name": "ipython",
    "version": 3
   },
   "file_extension": ".py",
   "mimetype": "text/x-python",
   "name": "python",
   "nbconvert_exporter": "python",
   "pygments_lexer": "ipython3",
   "version": "3.12.4"
  }
 },
 "nbformat": 4,
 "nbformat_minor": 5
}
