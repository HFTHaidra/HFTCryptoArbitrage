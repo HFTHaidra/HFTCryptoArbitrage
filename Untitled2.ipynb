{
 "cells": [
  {
   "cell_type": "code",
   "execution_count": 9,
   "id": "ddc15351-bef3-470d-9aba-ffad5cd54ce4",
   "metadata": {},
   "outputs": [
    {
     "name": "stdout",
     "output_type": "stream",
     "text": [
      "{\"time\":1731026300,\"time_ms\":1731026300590,\"conn_id\":\"eb1dffc37810a00a\",\"trace_id\":\"8dc05573d5d1c20c0deb648e916e27a7\",\"channel\":\"futures.order_book\",\"event\":\"subscribe\",\"payload\":[\"BTC_USDT\", \"20\", \"0\"],\"result\":{\"status\":\"success\"}}\n"
     ]
    }
   ],
   "source": [
    "import time\n",
    "import json\n",
    "\n",
    "# pip install websocket_client\n",
    "from websocket import create_connection\n",
    "\n",
    "ws = create_connection(\"wss://fx-ws.gateio.ws/v4/ws/usdt\")\n",
    "ws.send(json.dumps({\n",
    "    \"time\": int(time.time()),\n",
    "    \"channel\": \"futures.order_book\",\n",
    "    \"event\": \"subscribe\",  # \"unsubscribe\" for unsubscription\n",
    "    \"payload\": [\"BTC_USDT\",\"20\",\"0\"]\n",
    "}))\n",
    "print(ws.recv())"
   ]
  },
  {
   "cell_type": "code",
   "execution_count": null,
   "id": "409890ad-827d-47fa-ac3c-9a6a4f502083",
   "metadata": {},
   "outputs": [],
   "source": []
  }
 ],
 "metadata": {
  "kernelspec": {
   "display_name": "Python 3 (ipykernel)",
   "language": "python",
   "name": "python3"
  },
  "language_info": {
   "codemirror_mode": {
    "name": "ipython",
    "version": 3
   },
   "file_extension": ".py",
   "mimetype": "text/x-python",
   "name": "python",
   "nbconvert_exporter": "python",
   "pygments_lexer": "ipython3",
   "version": "3.12.4"
  }
 },
 "nbformat": 4,
 "nbformat_minor": 5
}
