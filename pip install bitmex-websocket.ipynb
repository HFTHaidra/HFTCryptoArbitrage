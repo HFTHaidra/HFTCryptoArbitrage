{
 "cells": [
  {
   "cell_type": "code",
   "execution_count": 5,
   "id": "9ca7714b-6d92-4409-a9a1-1bc42a763721",
   "metadata": {},
   "outputs": [
    {
     "ename": "SyntaxError",
     "evalue": "invalid syntax (408912586.py, line 2)",
     "output_type": "error",
     "traceback": [
      "\u001b[1;36m  Cell \u001b[1;32mIn[5], line 2\u001b[1;36m\u001b[0m\n\u001b[1;33m    pip install bitmex\u001b[0m\n\u001b[1;37m        ^\u001b[0m\n\u001b[1;31mSyntaxError\u001b[0m\u001b[1;31m:\u001b[0m invalid syntax\n"
     ]
    }
   ],
   "source": [
    "#pip install bitmex-websocket\n",
    "#pip install bitmex"
   ]
  },
  {
   "cell_type": "code",
   "execution_count": 6,
   "id": "3b707857-c109-4770-b50f-0752ac320f2c",
   "metadata": {},
   "outputs": [
    {
     "name": "stdout",
     "output_type": "stream",
     "text": [
      "Collecting bitmex\n",
      "  Downloading bitmex-0.2.2-py3-none-any.whl.metadata (282 bytes)\n",
      "Collecting bravado (from bitmex)\n",
      "  Downloading bravado-11.0.3-py2.py3-none-any.whl.metadata (5.9 kB)\n",
      "Collecting bravado-core>=5.16.1 (from bravado->bitmex)\n",
      "  Downloading bravado-core-6.1.1.tar.gz (63 kB)\n",
      "     ---------------------------------------- 0.0/63.9 kB ? eta -:--:--\n",
      "     ------ --------------------------------- 10.2/63.9 kB ? eta -:--:--\n",
      "     ------------------------ ------------- 41.0/63.9 kB 653.6 kB/s eta 0:00:01\n",
      "     -------------------------------------- 63.9/63.9 kB 864.7 kB/s eta 0:00:00\n",
      "  Preparing metadata (setup.py): started\n",
      "  Preparing metadata (setup.py): finished with status 'error'\n",
      "Note: you may need to restart the kernel to use updated packages.\n"
     ]
    },
    {
     "name": "stderr",
     "output_type": "stream",
     "text": [
      "  error: subprocess-exited-with-error\n",
      "  \n",
      "  python setup.py egg_info did not run successfully.\n",
      "  exit code: 1\n",
      "  \n",
      "  [11 lines of output]\n",
      "  Traceback (most recent call last):\n",
      "    File \"<string>\", line 2, in <module>\n",
      "    File \"<pip-setuptools-caller>\", line 14, in <module>\n",
      "    File \"C:\\Users\\admin\\anaconda3\\envs\\mt\\Lib\\site-packages\\setuptools\\__init__.py\", line 16, in <module>\n",
      "      import setuptools.version\n",
      "    File \"C:\\Users\\admin\\anaconda3\\envs\\mt\\Lib\\site-packages\\setuptools\\version.py\", line 1, in <module>\n",
      "      import pkg_resources\n",
      "    File \"C:\\Users\\admin\\anaconda3\\envs\\mt\\Lib\\site-packages\\pkg_resources\\__init__.py\", line 2191, in <module>\n",
      "      register_finder(pkgutil.ImpImporter, find_on_path)\n",
      "                      ^^^^^^^^^^^^^^^^^^^\n",
      "  AttributeError: module 'pkgutil' has no attribute 'ImpImporter'. Did you mean: 'zipimporter'?\n",
      "  [end of output]\n",
      "  \n",
      "  note: This error originates from a subprocess, and is likely not a problem with pip.\n",
      "error: metadata-generation-failed\n",
      "\n",
      "Encountered error while generating package metadata.\n",
      "\n",
      "See above for output.\n",
      "\n",
      "note: This is an issue with the package mentioned above, not pip.\n",
      "hint: See above for details.\n"
     ]
    }
   ],
   "source": [
    "pip install bitmex"
   ]
  },
  {
   "cell_type": "code",
   "execution_count": 3,
   "id": "a6be7692-3aea-41f4-92f1-66ae8789a45c",
   "metadata": {},
   "outputs": [
    {
     "name": "stderr",
     "output_type": "stream",
     "text": [
      "2024-11-06 15:11:02 DEBUG [bitmex_websocket._settings_base:20] INFO\n"
     ]
    },
    {
     "ename": "TypeError",
     "evalue": "constraints must be a tuple",
     "output_type": "error",
     "traceback": [
      "\u001b[1;31m---------------------------------------------------------------------------\u001b[0m",
      "\u001b[1;31mTypeError\u001b[0m                                 Traceback (most recent call last)",
      "Cell \u001b[1;32mIn[3], line 3\u001b[0m\n\u001b[0;32m      1\u001b[0m \u001b[38;5;28;01mimport\u001b[39;00m \u001b[38;5;21;01mwebsocket\u001b[39;00m\n\u001b[1;32m----> 3\u001b[0m \u001b[38;5;28;01mfrom\u001b[39;00m \u001b[38;5;21;01mbitmex_websocket\u001b[39;00m \u001b[38;5;28;01mimport\u001b[39;00m Instrument\n\u001b[0;32m      4\u001b[0m \u001b[38;5;28;01mfrom\u001b[39;00m \u001b[38;5;21;01mbitmex_websocket\u001b[39;00m\u001b[38;5;21;01m.\u001b[39;00m\u001b[38;5;21;01mconstants\u001b[39;00m \u001b[38;5;28;01mimport\u001b[39;00m InstrumentChannels\n\u001b[0;32m      6\u001b[0m websocket\u001b[38;5;241m.\u001b[39menableTrace(\u001b[38;5;28;01mTrue\u001b[39;00m)\n",
      "File \u001b[1;32m~\\anaconda3\\envs\\mt\\Lib\\site-packages\\bitmex_websocket\\__init__.py:1\u001b[0m\n\u001b[1;32m----> 1\u001b[0m \u001b[38;5;28;01mfrom\u001b[39;00m \u001b[38;5;21;01m.\u001b[39;00m\u001b[38;5;21;01m_instrument\u001b[39;00m \u001b[38;5;28;01mimport\u001b[39;00m Instrument\n\u001b[0;32m      2\u001b[0m \u001b[38;5;28;01mfrom\u001b[39;00m \u001b[38;5;21;01m.\u001b[39;00m\u001b[38;5;21;01m_bitmex_websocket\u001b[39;00m \u001b[38;5;28;01mimport\u001b[39;00m BitMEXWebsocket\n\u001b[0;32m      4\u001b[0m __all__ \u001b[38;5;241m=\u001b[39m [Instrument, BitMEXWebsocket]\n",
      "File \u001b[1;32m~\\anaconda3\\envs\\mt\\Lib\\site-packages\\bitmex_websocket\\_instrument.py:4\u001b[0m\n\u001b[0;32m      1\u001b[0m \u001b[38;5;66;03m#!/usr/bin/env python\u001b[39;00m\n\u001b[1;32m----> 4\u001b[0m \u001b[38;5;28;01mfrom\u001b[39;00m \u001b[38;5;21;01mbitmex_websocket\u001b[39;00m\u001b[38;5;21;01m.\u001b[39;00m\u001b[38;5;21;01m_bitmex_websocket\u001b[39;00m \u001b[38;5;28;01mimport\u001b[39;00m BitMEXWebsocket\n\u001b[0;32m      5\u001b[0m \u001b[38;5;28;01mfrom\u001b[39;00m \u001b[38;5;21;01mbitmex_websocket\u001b[39;00m\u001b[38;5;21;01m.\u001b[39;00m\u001b[38;5;21;01mconstants\u001b[39;00m \u001b[38;5;28;01mimport\u001b[39;00m Channels, SecureChannels, \\\n\u001b[0;32m      6\u001b[0m     SecureInstrumentChannels, InstrumentChannels\n\u001b[0;32m      8\u001b[0m \u001b[38;5;28;01mimport\u001b[39;00m \u001b[38;5;21;01malog\u001b[39;00m\n",
      "File \u001b[1;32m~\\anaconda3\\envs\\mt\\Lib\\site-packages\\bitmex_websocket\\_bitmex_websocket.py:4\u001b[0m\n\u001b[0;32m      1\u001b[0m \u001b[38;5;28;01mfrom\u001b[39;00m \u001b[38;5;21;01mbitmex_websocket\u001b[39;00m\u001b[38;5;21;01m.\u001b[39;00m\u001b[38;5;21;01mauth\u001b[39;00m\u001b[38;5;21;01m.\u001b[39;00m\u001b[38;5;21;01mapi_key_auth\u001b[39;00m \u001b[38;5;28;01mimport\u001b[39;00m generate_nonce,\\\n\u001b[0;32m      2\u001b[0m     generate_signature\n\u001b[0;32m      3\u001b[0m \u001b[38;5;28;01mfrom\u001b[39;00m \u001b[38;5;21;01mbitmex_websocket\u001b[39;00m\u001b[38;5;21;01m.\u001b[39;00m\u001b[38;5;21;01msettings\u001b[39;00m \u001b[38;5;28;01mimport\u001b[39;00m settings\n\u001b[1;32m----> 4\u001b[0m \u001b[38;5;28;01mfrom\u001b[39;00m \u001b[38;5;21;01mpyee\u001b[39;00m \u001b[38;5;28;01mimport\u001b[39;00m EventEmitter\n\u001b[0;32m      5\u001b[0m \u001b[38;5;28;01mfrom\u001b[39;00m \u001b[38;5;21;01murllib\u001b[39;00m\u001b[38;5;21;01m.\u001b[39;00m\u001b[38;5;21;01mparse\u001b[39;00m \u001b[38;5;28;01mimport\u001b[39;00m urlparse\n\u001b[0;32m      6\u001b[0m \u001b[38;5;28;01mfrom\u001b[39;00m \u001b[38;5;21;01mwebsocket\u001b[39;00m \u001b[38;5;28;01mimport\u001b[39;00m WebSocketApp\n",
      "File \u001b[1;32m~\\anaconda3\\envs\\mt\\Lib\\site-packages\\pyee\\__init__.py:34\u001b[0m\n\u001b[0;32m      3\u001b[0m \u001b[38;5;124;03m\"\"\"\u001b[39;00m\n\u001b[0;32m      4\u001b[0m \u001b[38;5;124;03mpyee supplies a ``EventEmitter`` class that is similar to the\u001b[39;00m\n\u001b[0;32m      5\u001b[0m \u001b[38;5;124;03m``EventEmitter`` class from Node.js. In addition, it supplies the subclasses\u001b[39;00m\n\u001b[1;32m   (...)\u001b[0m\n\u001b[0;32m     29\u001b[0m \n\u001b[0;32m     30\u001b[0m \u001b[38;5;124;03m\"\"\"\u001b[39;00m\n\u001b[0;32m     32\u001b[0m \u001b[38;5;28;01mfrom\u001b[39;00m \u001b[38;5;21;01mwarnings\u001b[39;00m \u001b[38;5;28;01mimport\u001b[39;00m warn\n\u001b[1;32m---> 34\u001b[0m \u001b[38;5;28;01mfrom\u001b[39;00m \u001b[38;5;21;01mpyee\u001b[39;00m\u001b[38;5;21;01m.\u001b[39;00m\u001b[38;5;21;01mbase\u001b[39;00m \u001b[38;5;28;01mimport\u001b[39;00m EventEmitter \u001b[38;5;28;01mas\u001b[39;00m EventEmitter\n\u001b[0;32m     35\u001b[0m \u001b[38;5;28;01mfrom\u001b[39;00m \u001b[38;5;21;01mpyee\u001b[39;00m\u001b[38;5;21;01m.\u001b[39;00m\u001b[38;5;21;01mbase\u001b[39;00m \u001b[38;5;28;01mimport\u001b[39;00m PyeeException\n\u001b[0;32m     38\u001b[0m \u001b[38;5;28;01mclass\u001b[39;00m \u001b[38;5;21;01mBaseEventEmitter\u001b[39;00m(EventEmitter):\n",
      "File \u001b[1;32m~\\anaconda3\\envs\\mt\\Lib\\site-packages\\pyee\\base.py:12\u001b[0m\n\u001b[0;32m      8\u001b[0m \u001b[38;5;28;01mclass\u001b[39;00m \u001b[38;5;21;01mPyeeException\u001b[39;00m(\u001b[38;5;167;01mException\u001b[39;00m):\n\u001b[0;32m      9\u001b[0m \u001b[38;5;250m    \u001b[39m\u001b[38;5;124;03m\"\"\"An exception internal to pyee.\"\"\"\u001b[39;00m\n\u001b[1;32m---> 12\u001b[0m Handler \u001b[38;5;241m=\u001b[39m TypeVar(name\u001b[38;5;241m=\u001b[39m\u001b[38;5;124m\"\u001b[39m\u001b[38;5;124mHandler\u001b[39m\u001b[38;5;124m\"\u001b[39m, bound\u001b[38;5;241m=\u001b[39mCallable)\n\u001b[0;32m     15\u001b[0m \u001b[38;5;28;01mclass\u001b[39;00m \u001b[38;5;21;01mEventEmitter\u001b[39;00m:\n\u001b[0;32m     16\u001b[0m \u001b[38;5;250m    \u001b[39m\u001b[38;5;124;03m\"\"\"The base event emitter class. All other event emitters inherit from\u001b[39;00m\n\u001b[0;32m     17\u001b[0m \u001b[38;5;124;03m    this class.\u001b[39;00m\n\u001b[0;32m     18\u001b[0m \n\u001b[1;32m   (...)\u001b[0m\n\u001b[0;32m     39\u001b[0m \u001b[38;5;124;03m    your own exceptions, and treat them accordingly.\u001b[39;00m\n\u001b[0;32m     40\u001b[0m \u001b[38;5;124;03m    \"\"\"\u001b[39;00m\n",
      "\u001b[1;31mTypeError\u001b[0m: constraints must be a tuple"
     ]
    }
   ],
   "source": [
    "import websocket\n",
    "\n",
    "from bitmex_websocket import Instrument\n",
    "from bitmex_websocket.constants import InstrumentChannels\n",
    "\n",
    "websocket.enableTrace(True)\n",
    "\n",
    "\n",
    "channels = [\n",
    "    InstrumentChannels.quote,\n",
    "    InstrumentChannels.trade,\n",
    "    InstrumentChannels.orderBookL2\n",
    "]\n",
    "\n",
    "XBTUSD = Instrument(symbol='XBTUSD',\n",
    "                    channels=channels)\n",
    "XBTUSD.on('action', lambda msg: print(msg))\n",
    "\n",
    "XBTUSD.run_forever()"
   ]
  },
  {
   "cell_type": "code",
   "execution_count": null,
   "id": "4d287c8b-66fb-4799-962d-8615bc9d164b",
   "metadata": {},
   "outputs": [],
   "source": []
  }
 ],
 "metadata": {
  "kernelspec": {
   "display_name": "Python 3 (ipykernel)",
   "language": "python",
   "name": "python3"
  },
  "language_info": {
   "codemirror_mode": {
    "name": "ipython",
    "version": 3
   },
   "file_extension": ".py",
   "mimetype": "text/x-python",
   "name": "python",
   "nbconvert_exporter": "python",
   "pygments_lexer": "ipython3",
   "version": "3.12.4"
  }
 },
 "nbformat": 4,
 "nbformat_minor": 5
}
